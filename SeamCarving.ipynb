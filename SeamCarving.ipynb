# -*- coding: utf-8 -*-

import numpy as np

import Basics

def contentAwareResizing (img, nn, nm, efficiency, energy):

    n, m = img.shape[:2]
    
    dif_n = n - nn
    dif_m = m - nm
    
    

    accion = [Basics.removeSeam, Basics.addSeam]
    funcion = Basics.scaleAndCarve

    if efficiency == False:

        accion = [Basics.removeOrderSeams, Basics.addOrderSeams]
        funcion = Basics.carve

    if dif_n > 0:

        if dif_m < 0:

            img = funcion(img, nn, 0, accion[0], energy)
            img = funcion(img, 0, m - abs(dif_m), accion[1], energy)

        else:
            img = funcion(img, nn, nm, accion[0], energy)

    elif dif_n < 0:

        if dif_m > 0:

            img = funcion(img, n - abs(dif_n), 0, accion[1], energy)
            img = funcion(img, 0, nm, accion[0], energy)

        else:
            img = funcion(img, n - abs(dif_n), m - abs(dif_m), accion[1], energy)

    else:

        if dif_m < 0:
            img = funcion(img, nn, nm, accion[1], energy)

        else:
            img = funcion(img, 0, nm, accion[0], energy)

    return img
