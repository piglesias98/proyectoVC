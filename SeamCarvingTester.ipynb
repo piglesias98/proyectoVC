# -*- coding: utf-8 -*-
"""
Created on Sat Jan 18 13:38:44 2020

@author: Paula
"""

import Basics
import Energias
import SeamCarving

img = Basics.readImage("campo.jpg", 1)
image = SeamCarving.contentAwareResizing (img, img.shape[0] + 100, img.shape[1] + 50, False, Energias.forwardEnergy)

Basics.representar_imagenes([img, image], ["original", "editada"])
